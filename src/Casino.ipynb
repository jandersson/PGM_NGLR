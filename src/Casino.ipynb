{
 "cells": [
  {
   "cell_type": "code",
   "execution_count": 2,
   "metadata": {
    "collapsed": false
   },
   "outputs": [
    {
     "name": "stderr",
     "output_type": "stream",
     "text": [
      "/home/jonas/opt/anaconda3/lib/python3.5/site-packages/matplotlib/__init__.py:872: UserWarning: axes.color_cycle is deprecated and replaced with axes.prop_cycle; please use the latter.\n",
      "  warnings.warn(self.msg_depr % (key, alt_key))\n"
     ]
    }
   ],
   "source": [
    "import numpy as np\n",
    "import numpy.testing as npt\n",
    "import seaborn as sns\n",
    "%matplotlib inline"
   ]
  },
  {
   "cell_type": "markdown",
   "metadata": {},
   "source": [
    "There are 2K tables!\n",
    "Dice rolls are distributed as a multinomial (aka categorical) distribution.\n",
    "Each player visits K tables. So the number of timesteps in the model is equal to the number of tables. Use a list of vectors to hold the dice rolls. A set of observations for a single player is a vector containing the sums of their dice rolls at each table. The overall observation set will be a vector of vectors containing the set of observations for each player per vector."
   ]
  },
  {
   "cell_type": "code",
   "execution_count": 52,
   "metadata": {
    "collapsed": true
   },
   "outputs": [],
   "source": [
    "#global state\n",
    "\n",
    "num_players = 2\n",
    "K = 5\n",
    "num_tables = 2*K\n",
    "die_sides = 6\n",
    "timesteps = K"
   ]
  },
  {
   "cell_type": "code",
   "execution_count": 53,
   "metadata": {
    "collapsed": true
   },
   "outputs": [],
   "source": [
    "# class Player:\n",
    "#     def __init__(self):"
   ]
  },
  {
   "cell_type": "markdown",
   "metadata": {},
   "source": [
    "# Generate Distributions\n",
    "\n",
    "Setting up the emission matrix, seen in https://en.wikipedia.org/wiki/Forward%E2%80%93backward_algorithm"
   ]
  },
  {
   "cell_type": "code",
   "execution_count": 54,
   "metadata": {
    "collapsed": false
   },
   "outputs": [
    {
     "name": "stdout",
     "output_type": "stream",
     "text": [
      "[[ 0.16666667  0.16666667  0.16666667  0.16666667  0.16666667  0.16666667]\n",
      " [ 0.1         0.1         0.1         0.1         0.1         0.5       ]\n",
      " [ 0.5         0.1         0.1         0.1         0.1         0.1       ]]\n",
      "(3, 6)\n"
     ]
    }
   ],
   "source": [
    "pval_uniform = np.array([1/float(die_sides)] * die_sides)\n",
    "pval_goodbias = np.array([0.1, 0.1, 0.1, 0.1, 0.1, 0.5])\n",
    "pval_badbias = np.array([0.5, 0.1, 0.1, 0.1, 0.1, 0.1])\n",
    "\n",
    "emission_matrix = np.vstack([pval_uniform, pval_goodbias, pval_badbias])\n",
    "print(emission_matrix)\n",
    "print(emission_matrix.shape)\n",
    "pval_player_bias = pval_uniform\n",
    "npt.assert_almost_equal(np.sum(pval_uniform), 1)\n",
    "npt.assert_almost_equal(np.sum(pval_badbias), 1)\n",
    "npt.assert_almost_equal(np.sum(pval_goodbias), 1)\n",
    "\n",
    "\n",
    "transition_matrix = np.array([[0.25, 0.75],\n",
    "                              [0.75, 0.25]])"
   ]
  },
  {
   "cell_type": "markdown",
   "metadata": {},
   "source": [
    "# Roll some dice!\n",
    "\n",
    "Loop through 1 to K\n",
    "\n",
    "For each step, use a function to return a distribution.\n",
    "\n",
    "Roll a dice using the distribution as the tables distribution. Roll a dice using the player distribution. Sum it up, and put it in a vector."
   ]
  },
  {
   "cell_type": "code",
   "execution_count": 55,
   "metadata": {
    "collapsed": true
   },
   "outputs": [],
   "source": [
    "def dice_roll(distribution):\n",
    "    return np.random.choice([1,2,3,4,5,6], 1, True, distribution)"
   ]
  },
  {
   "cell_type": "code",
   "execution_count": 56,
   "metadata": {
    "collapsed": true
   },
   "outputs": [],
   "source": [
    "def visit_tables(emission_matrix, transition_matrix, table_dist_index, tableprime_dist_index, player_dice_dist):\n",
    "    current_table = 0 #0 for table, 1 for table_prime\n",
    "    player_rolls = np.zeros(K)\n",
    "    table_rolls = np.zeros(K)\n",
    "    dice_sums = np.zeros(K)\n",
    "    for i in range(K):\n",
    "        dice_dist = np.random.choice([table_dist_index,tableprime_dist_index], 1, True, transition_matrix[current_table,:])\n",
    "        table_rolls[i] = dice_roll(emission_matrix[dice_dist[0],:])\n",
    "        player_rolls[i] = dice_roll(emission_matrix[player_dice_dist,:]) \n",
    "        dice_sums[i] = table_rolls[i] + player_rolls[i]\n",
    "    return dice_sums"
   ]
  },
  {
   "cell_type": "markdown",
   "metadata": {},
   "source": [
    "# What if all of the dice are uniform?"
   ]
  },
  {
   "cell_type": "code",
   "execution_count": 57,
   "metadata": {
    "collapsed": true
   },
   "outputs": [],
   "source": [
    "overall_observations = np.zeros((num_players, K))\n",
    "for player in range(num_players):\n",
    "    overall_observations[player] = visit_tables(emission_matrix, transition_matrix, 0,0,0)"
   ]
  },
  {
   "cell_type": "code",
   "execution_count": 58,
   "metadata": {
    "collapsed": false
   },
   "outputs": [
    {
     "data": {
      "text/plain": [
       "<matplotlib.axes._subplots.AxesSubplot at 0x7fb9a15c7320>"
      ]
     },
     "execution_count": 58,
     "metadata": {},
     "output_type": "execute_result"
    },
    {
     "data": {
      "image/png": "[encoded data removed]"
     },
     "metadata": {},
     "output_type": "display_data",
     "text": [
      "<matplotlib.figure.Figure at 0x7fb9a1567b00>"
     ]
    }
   ],
   "source": [
    "sns.distplot(np.concatenate(overall_observations),bins=11, kde=False, rug=True)"
   ]
  },
  {
   "cell_type": "markdown",
   "metadata": {},
   "source": [
    "# What if all the dice are uniform except one?"
   ]
  },
  {
   "cell_type": "code",
   "execution_count": 59,
   "metadata": {
    "collapsed": true
   },
   "outputs": [],
   "source": [
    "overall_observations = np.zeros((num_players, K))\n",
    "for player in range(num_players):\n",
    "    overall_observations[player] = visit_tables(emission_matrix, transition_matrix, 0,1,0)"
   ]
  },
  {
   "cell_type": "code",
   "execution_count": 60,
   "metadata": {
    "collapsed": false
   },
   "outputs": [
    {
     "data": {
      "text/plain": [
       "<matplotlib.axes._subplots.AxesSubplot at 0x7fb9a1493240>"
      ]
     },
     "execution_count": 60,
     "metadata": {},
     "output_type": "execute_result"
    },
    {
     "data": {
      "image/png": "[encoded data removed]"
     },
     "metadata": {},
     "output_type": "display_data",
     "text": [
      "<matplotlib.figure.Figure at 0x7fb9a1482b70>"
     ]
    }
   ],
   "source": [
    "sns.distplot(np.concatenate(overall_observations),bins=11, kde=False, rug=True)"
   ]
  },
  {
   "cell_type": "markdown",
   "metadata": {},
   "source": [
    "# What if all are bad/biased?\n",
    "We'll give the table a good bias, and the player a bad bias\n",
    "\n"
   ]
  },
  {
   "cell_type": "code",
   "execution_count": 61,
   "metadata": {
    "collapsed": true
   },
   "outputs": [],
   "source": [
    "overall_observations = np.zeros((num_players, K))\n",
    "for player in range(num_players):\n",
    "    overall_observations[player] = visit_tables(emission_matrix, transition_matrix, 0,1,2) #player gets the bad bias"
   ]
  },
  {
   "cell_type": "code",
   "execution_count": 62,
   "metadata": {
    "collapsed": false
   },
   "outputs": [
    {
     "data": {
      "text/plain": [
       "<matplotlib.axes._subplots.AxesSubplot at 0x7fb9a14724e0>"
      ]
     },
     "execution_count": 62,
     "metadata": {},
     "output_type": "execute_result"
    },
    {
     "data": {
      "image/png": "[encoded data removed]"
     },
     "metadata": {},
     "output_type": "display_data",
     "text": [
      "<matplotlib.figure.Figure at 0x7fb9a13bb550>"
     ]
    }
   ],
   "source": [
    "sns.distplot(np.concatenate(overall_observations),bins=11, kde=False, rug=True)"
   ]
  },
  {
   "cell_type": "markdown",
   "metadata": {},
   "source": [
    "# Construct New Emissions Matrix for Dice Roll Sums\n",
    "\n",
    "Use the visit tables function using only a single pvalue vector for table and tableprime dice. There will be empty bins for 0 and 1 since those are not possible but still need to be there for the indexing to work properly in the forward/backward algorithm."
   ]
  },
  {
   "cell_type": "code",
   "execution_count": 63,
   "metadata": {
    "collapsed": false
   },
   "outputs": [
    {
     "name": "stdout",
     "output_type": "stream",
     "text": [
      "[   0    0  570 1122 1726 2163 2844 3237 2750 2198 1690 1135  565]\n"
     ]
    }
   ],
   "source": [
    "## Uniform\n",
    "K = 10000\n",
    "overall_observations = np.zeros((num_players, K))\n",
    "for player in range(num_players):\n",
    "    overall_observations[player] = visit_tables(emission_matrix, transition_matrix, 0,0,0)\n",
    "\n",
    "# print(overall_observations.shape)\n",
    "temp = overall_observations.astype(int)\n",
    "temp = temp.flatten()\n",
    "print(np.bincount(temp))\n",
    "# print(np.bincount(temp)/temp.shape[0])\n",
    "uniform_emissions = np.bincount(temp)/temp.shape[0]\n",
    "    \n",
    "## Good Bias\n",
    "overall_observations = np.zeros((num_players, K))\n",
    "for player in range(num_players):\n",
    "    overall_observations[player] = visit_tables(emission_matrix, transition_matrix, 1,1,0)\n",
    "    \n",
    "temp = overall_observations.astype(int)\n",
    "temp = temp.flatten()\n",
    "goodbias_emissions = np.bincount(temp)/temp.shape[0]    \n",
    "\n",
    "overall_observations = np.zeros((num_players, K))\n",
    "for player in range(num_players):\n",
    "    overall_observations[player] = visit_tables(emission_matrix, transition_matrix, 2,2,0)\n",
    "\n",
    "temp = overall_observations.astype(int)\n",
    "temp = temp.flatten()\n",
    "badbias_emissions = np.bincount(temp)/temp.shape[0]"
   ]
  },
  {
   "cell_type": "code",
   "execution_count": 64,
   "metadata": {
    "collapsed": false
   },
   "outputs": [
    {
     "name": "stdout",
     "output_type": "stream",
     "text": [
      "[[ 0.       0.       0.0285   0.0561   0.0863   0.10815  0.1422   0.16185\n",
      "   0.1375   0.1099   0.0845   0.05675  0.02825]\n",
      " [ 0.       0.       0.01825  0.03335  0.0495   0.06855  0.0787   0.16705\n",
      "   0.1502   0.1322   0.11755  0.0992   0.08545]\n",
      " [ 0.       0.       0.08555  0.0992   0.11465  0.1318   0.15315  0.17\n",
      "   0.08335  0.06455  0.04825  0.0329   0.0166 ]]\n"
     ]
    }
   ],
   "source": [
    "new_emissions = np.vstack([uniform_emissions, goodbias_emissions, badbias_emissions])\n",
    "print(new_emissions)"
   ]
  },
  {
   "cell_type": "markdown",
   "metadata": {},
   "source": [
    "# Forward Algorithm\n",
    "\n",
    "Don't use the entire algorithm, just compute the forward variable..."
   ]
  },
  {
   "cell_type": "code",
   "execution_count": 65,
   "metadata": {
    "collapsed": true
   },
   "outputs": [],
   "source": [
    "def fwd(observations, hidden_states, init_state, transition_matrix, emission_matrix, end_state):\n",
    "    L = len(observations)\n",
    "    fwd = []\n",
    "    f_prev = []\n",
    "    for i, x_i in enumerate(observations):\n",
    "        f_curr = np.zeros(len(hidden_states))\n",
    "        for state, _ in enumerate(hidden_states):\n",
    "            if i == 0:\n",
    "                prev_f_sum = init_state[state]\n",
    "#                 print(\"Prev_f_sum: \" + str(prev_f_sum))\n",
    "            else:\n",
    "                prev_f_sum = np.sum(f_prev[k]*transition_matrix[k][state] for k, _ in enumerate(hidden_states))\n",
    "#                 prev_f_sum = sum(f_prev[k]*transition_matrix[k][state] for k in hidden_states)\n",
    "            f_curr[state] = emission_matrix[state][x_i] * prev_f_sum\n",
    "            # print(f_curr[state])\n",
    "        fwd.append(f_curr)\n",
    "        f_prev = f_curr\n",
    "    p_fwd = sum(f_curr[k]*transition_matrix[k][end_state] for k, _ in enumerate(hidden_states))\n",
    "    print(p_fwd)"
   ]
  },
  {
   "cell_type": "code",
   "execution_count": 68,
   "metadata": {
    "collapsed": false
   },
   "outputs": [
    {
     "name": "stdout",
     "output_type": "stream",
     "text": [
      "0.0\n"
     ]
    },
    {
     "name": "stderr",
     "output_type": "stream",
     "text": [
      "/home/jonas/opt/anaconda3/lib/python3.5/site-packages/ipykernel/__main__.py:14: DeprecationWarning: using a non-integer number instead of an integer will result in an error in the future\n"
     ]
    }
   ],
   "source": [
    "#test out the forward algorithm\n",
    "states = ('regular', 'primed')\n",
    "start_probability = [1.0, 0]\n",
    "fwd(overall_observations[0,:], states, start_probability, transition_matrix, new_emissions[1:,:], 0)"
   ]
  },
  {
   "cell_type": "code",
   "execution_count": 80,
   "metadata": {
    "collapsed": false
   },
   "outputs": [
    {
     "ename": "IndexError",
     "evalue": "index 2 is out of bounds for axis 0 with size 2",
     "output_type": "error",
     "traceback": [
      "\u001b[1;31m---------------------------------------------------------------------------\u001b[0m",
      "\u001b[1;31mIndexError\u001b[0m                                Traceback (most recent call last)",
      "\u001b[1;32m<ipython-input-80-8c40820b4d3b>\u001b[0m in \u001b[0;36m<module>\u001b[1;34m()\u001b[0m\n\u001b[0;32m      8\u001b[0m \u001b[1;33m\u001b[0m\u001b[0m\n\u001b[0;32m      9\u001b[0m \u001b[0mtest_obs\u001b[0m \u001b[1;33m=\u001b[0m \u001b[0mnp\u001b[0m\u001b[1;33m.\u001b[0m\u001b[0marray\u001b[0m\u001b[1;33m(\u001b[0m\u001b[1;33m[\u001b[0m\u001b[1;36m3\u001b[0m\u001b[1;33m,\u001b[0m\u001b[1;36m3\u001b[0m\u001b[1;33m]\u001b[0m\u001b[1;33m)\u001b[0m\u001b[1;33m\u001b[0m\u001b[0m\n\u001b[1;32m---> 10\u001b[1;33m \u001b[0ma\u001b[0m \u001b[1;33m=\u001b[0m \u001b[0mfwd2\u001b[0m\u001b[1;33m(\u001b[0m\u001b[0mstart_probability\u001b[0m\u001b[1;33m,\u001b[0m \u001b[0mnew_emissions\u001b[0m\u001b[1;33m,\u001b[0m \u001b[0mtransition_matrix\u001b[0m\u001b[1;33m,\u001b[0m \u001b[0mtest_obs\u001b[0m\u001b[1;33m,\u001b[0m \u001b[1;36m0\u001b[0m\u001b[1;33m)\u001b[0m\u001b[1;33m\u001b[0m\u001b[0m\n\u001b[0m\u001b[0;32m     11\u001b[0m \u001b[0mprint\u001b[0m\u001b[1;33m(\u001b[0m\u001b[0ma\u001b[0m\u001b[1;33m)\u001b[0m\u001b[1;33m\u001b[0m\u001b[0m\n",
      "\u001b[1;32m<ipython-input-80-8c40820b4d3b>\u001b[0m in \u001b[0;36mfwd2\u001b[1;34m(init_state, emission_matrix, transition_matrix, observation_sequence, query_state)\u001b[0m\n\u001b[0;32m      5\u001b[0m         \u001b[1;32mreturn\u001b[0m \u001b[0minit_state\u001b[0m\u001b[1;33m[\u001b[0m\u001b[0mquery_state\u001b[0m\u001b[1;33m]\u001b[0m\u001b[1;33m*\u001b[0m\u001b[0memission_matrix\u001b[0m\u001b[1;33m[\u001b[0m\u001b[0mquery_state\u001b[0m\u001b[1;33m]\u001b[0m\u001b[1;33m[\u001b[0m\u001b[0mobservation_sequence\u001b[0m\u001b[1;33m[\u001b[0m\u001b[1;36m0\u001b[0m\u001b[1;33m]\u001b[0m\u001b[1;33m]\u001b[0m\u001b[1;33m\u001b[0m\u001b[0m\n\u001b[0;32m      6\u001b[0m     \u001b[1;32melse\u001b[0m\u001b[1;33m:\u001b[0m\u001b[1;33m\u001b[0m\u001b[0m\n\u001b[1;32m----> 7\u001b[1;33m         \u001b[1;32mreturn\u001b[0m \u001b[0memission_matrix\u001b[0m\u001b[1;33m[\u001b[0m\u001b[0mobservation_sequence\u001b[0m\u001b[1;33m[\u001b[0m\u001b[0mquery_state\u001b[0m\u001b[1;33m]\u001b[0m\u001b[1;33m[\u001b[0m\u001b[0mobservation_sequence\u001b[0m\u001b[1;33m[\u001b[0m\u001b[0mnum_obs\u001b[0m\u001b[1;33m]\u001b[0m\u001b[1;33m]\u001b[0m\u001b[1;33m]\u001b[0m\u001b[1;33m*\u001b[0m\u001b[0mfwd2\u001b[0m\u001b[1;33m(\u001b[0m\u001b[0minit_state\u001b[0m\u001b[1;33m,\u001b[0m \u001b[0memission_matrix\u001b[0m\u001b[1;33m,\u001b[0m \u001b[0mtransition_matrix\u001b[0m\u001b[1;33m,\u001b[0m \u001b[0mobservation_sequence\u001b[0m\u001b[1;33m[\u001b[0m\u001b[1;33m:\u001b[0m\u001b[0mnum_obs\u001b[0m\u001b[1;33m-\u001b[0m\u001b[1;36m1\u001b[0m\u001b[1;33m]\u001b[0m\u001b[1;33m)\u001b[0m\u001b[1;33m\u001b[0m\u001b[0m\n\u001b[0m\u001b[0;32m      8\u001b[0m \u001b[1;33m\u001b[0m\u001b[0m\n\u001b[0;32m      9\u001b[0m \u001b[0mtest_obs\u001b[0m \u001b[1;33m=\u001b[0m \u001b[0mnp\u001b[0m\u001b[1;33m.\u001b[0m\u001b[0marray\u001b[0m\u001b[1;33m(\u001b[0m\u001b[1;33m[\u001b[0m\u001b[1;36m3\u001b[0m\u001b[1;33m,\u001b[0m\u001b[1;36m3\u001b[0m\u001b[1;33m]\u001b[0m\u001b[1;33m)\u001b[0m\u001b[1;33m\u001b[0m\u001b[0m\n",
      "\u001b[1;31mIndexError\u001b[0m: index 2 is out of bounds for axis 0 with size 2"
     ]
    }
   ],
   "source": [
    "def fwd2(init_state, emission_matrix, transition_matrix, observation_sequence, query_state):\n",
    "    num_obs = observation_sequence.shape[0]\n",
    "    states = emission_matrix.shape[0]\n",
    "    if num_obs == 1:\n",
    "        return init_state[query_state]*emission_matrix[query_state][observation_sequence[0]]\n",
    "    else:\n",
    "        return emission_matrix[observation_sequence[query_state][observation_sequence[num_obs]]]*fwd2(init_state, emission_matrix, transition_matrix, observation_sequence[:num_obs-1])\n",
    "    \n",
    "test_obs = np.array([3,3])\n",
    "a = fwd2(start_probability, new_emissions, transition_matrix, test_obs, 0)\n",
    "print(a)"
   ]
  },
  {
   "cell_type": "code",
   "execution_count": 91,
   "metadata": {
    "collapsed": false
   },
   "outputs": [
    {
     "name": "stdout",
     "output_type": "stream",
     "text": [
      "[[ 0.16666667  0.16666667  0.16666667  0.16666667  0.16666667  0.16666667]\n",
      " [ 0.1         0.1         0.1         0.1         0.1         0.5       ]\n",
      " [ 0.5         0.1         0.1         0.1         0.1         0.1       ]]\n"
     ]
    },
    {
     "ename": "NameError",
     "evalue": "name 'observations' is not defined",
     "output_type": "error",
     "traceback": [
      "\u001b[1;31m---------------------------------------------------------------------------\u001b[0m",
      "\u001b[1;31mNameError\u001b[0m                                 Traceback (most recent call last)",
      "\u001b[1;32m<ipython-input-91-e7977cc2a10b>\u001b[0m in \u001b[0;36m<module>\u001b[1;34m()\u001b[0m\n\u001b[0;32m     15\u001b[0m \u001b[0mprint\u001b[0m\u001b[1;33m(\u001b[0m\u001b[0memission_matrix\u001b[0m\u001b[1;33m)\u001b[0m\u001b[1;33m\u001b[0m\u001b[0m\n\u001b[0;32m     16\u001b[0m \u001b[0minit_state\u001b[0m \u001b[1;33m=\u001b[0m \u001b[0mnp\u001b[0m\u001b[1;33m.\u001b[0m\u001b[0marray\u001b[0m\u001b[1;33m(\u001b[0m\u001b[1;33m[\u001b[0m\u001b[1;36m0.9\u001b[0m\u001b[1;33m,\u001b[0m \u001b[1;36m0.1\u001b[0m\u001b[1;33m]\u001b[0m\u001b[1;33m)\u001b[0m\u001b[1;33m\u001b[0m\u001b[0m\n\u001b[1;32m---> 17\u001b[1;33m \u001b[0malpha\u001b[0m \u001b[1;33m=\u001b[0m \u001b[0mfwd_stamp\u001b[0m\u001b[1;33m(\u001b[0m\u001b[0mstart_probability\u001b[0m\u001b[1;33m,\u001b[0m \u001b[0mobservations\u001b[0m\u001b[1;33m,\u001b[0m \u001b[0mnew_emissions\u001b[0m\u001b[1;33m[\u001b[0m\u001b[1;36m1\u001b[0m\u001b[1;33m:\u001b[0m\u001b[1;33m,\u001b[0m\u001b[1;33m:\u001b[0m\u001b[1;33m]\u001b[0m\u001b[1;33m)\u001b[0m\u001b[1;33m\u001b[0m\u001b[0m\n\u001b[0m\u001b[0;32m     18\u001b[0m \u001b[0mprint\u001b[0m\u001b[1;33m(\u001b[0m\u001b[0malpha\u001b[0m\u001b[1;33m)\u001b[0m\u001b[1;33m\u001b[0m\u001b[0m\n\u001b[0;32m     19\u001b[0m \u001b[1;33m\u001b[0m\u001b[0m\n",
      "\u001b[1;31mNameError\u001b[0m: name 'observations' is not defined"
     ]
    }
   ],
   "source": [
    "def fwd_stamp(init_state, observations, emission_matrix):\n",
    "    \n",
    "    #compute a0(i)\n",
    "    c0 = 0\n",
    "    \n",
    "    num_obs = observations.shape[0]\n",
    "    N = emission_matrix.shape[0]\n",
    "    alpha = np.zeros((N,num_obs))\n",
    "    for i in range(N):\n",
    "        alpha[i][0] = init_state[i]*emission_matrix[i][0]\n",
    "    \n",
    "    return alpha\n",
    "        \n",
    "\n",
    "print(emission_matrix)\n",
    "init_state = np.array([0.9, 0.1])\n",
    "alpha = fwd_stamp(start_probability, observations, new_emissions[1:,:]) \n",
    "print(alpha)"
   ]
  },
  {
   "cell_type": "code",
   "execution_count": 92,
   "metadata": {
    "collapsed": true
   },
   "outputs": [],
   "source": []
  },
  {
   "cell_type": "code",
   "execution_count": null,
   "metadata": {
    "collapsed": true
   },
   "outputs": [],
   "source": []
  }
 ],
 "metadata": {
  "kernelspec": {
   "display_name": "Python 3",
   "language": "python",
   "name": "python3"
  },
  "language_info": {
   "codemirror_mode": {
    "name": "ipython",
    "version": 3
   },
   "file_extension": ".py",
   "mimetype": "text/x-python",
   "name": "python",
   "nbconvert_exporter": "python",
   "pygments_lexer": "ipython3",
   "version": "3.5.0"
  }
 },
 "nbformat": 4,
 "nbformat_minor": 0
}
