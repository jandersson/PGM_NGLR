{
 "cells": [
  {
   "cell_type": "code",
   "execution_count": 39,
   "metadata": {
    "collapsed": false
   },
   "outputs": [],
   "source": [
    "import numpy as np\n",
    "import numpy.testing as npt\n",
    "import seaborn as sns\n",
    "%matplotlib inline"
   ]
  },
  {
   "cell_type": "markdown",
   "metadata": {},
   "source": [
    "There are 2K tables!\n",
    "Dice rolls are distributed as a multinomial (aka categorical) distribution.\n",
    "Each player visits K tables. So the number of timesteps in the model is equal to the number of tables. Use a list of vectors to hold the dice rolls. A set of observations for a single player is a vector containing the sums of their dice rolls at each table. The overall observation set will be a vector of vectors containing the set of observations for each player per vector."
   ]
  },
  {
   "cell_type": "code",
   "execution_count": 40,
   "metadata": {
    "collapsed": false
   },
   "outputs": [],
   "source": [
    "#global state\n",
    "\n",
    "num_players = 10\n",
    "K = 1000\n",
    "num_tables = 2*K\n",
    "die_sides = 6\n",
    "timesteps = K"
   ]
  },
  {
   "cell_type": "code",
   "execution_count": 41,
   "metadata": {
    "collapsed": false
   },
   "outputs": [],
   "source": [
    "# class Player:\n",
    "#     def __init__(self):\n",
    "        "
   ]
  },
  {
   "cell_type": "markdown",
   "metadata": {},
   "source": [
    "# Generate Distributions\n",
    "\n",
    "Setting up the emission matrix, seen in https://en.wikipedia.org/wiki/Forward%E2%80%93backward_algorithm"
   ]
  },
  {
   "cell_type": "code",
   "execution_count": 55,
   "metadata": {
    "collapsed": false
   },
   "outputs": [
    {
     "name": "stdout",
     "output_type": "stream",
     "text": [
      "[[ 0.16666667  0.16666667  0.16666667  0.16666667  0.16666667  0.16666667]\n",
      " [ 0.02        0.02        0.2         0.2         0.2         0.36      ]\n",
      " [ 0.3         0.3         0.1         0.1         0.1         0.1       ]]\n",
      "(3, 6)\n"
     ]
    }
   ],
   "source": [
    "pval_uniform = np.array([1/float(die_sides)] * die_sides)\n",
    "pval_goodbias = np.array([0.02, 0.02, 0.2, 0.2, 0.2, 0.36])\n",
    "pval_badbias = np.array([0.3, 0.3, 0.1, 0.1, 0.1, 0.1])\n",
    "\n",
    "emission_matrix = np.vstack([pval_uniform, pval_goodbias, pval_badbias])\n",
    "print(emission_matrix)\n",
    "print(emission_matrix.shape)\n",
    "pval_player_bias = pval_uniform\n",
    "npt.assert_almost_equal(np.sum(pval_uniform), 1)\n",
    "npt.assert_almost_equal(np.sum(pval_badbias), 1)\n",
    "npt.assert_almost_equal(np.sum(pval_goodbias), 1)\n",
    "\n",
    "\n",
    "transition_matrix = np.array([[0.25, 0.75],\n",
    "                              [0.75, 0.25]])\n",
    "\n",
    "states = ('regular', 'primed')\n",
    "\n",
    "start_probability = [1.0, 0]"
   ]
  },
  {
   "cell_type": "markdown",
   "metadata": {},
   "source": [
    "# Roll some dice!\n",
    "\n",
    "Loop through 1 to K\n",
    "\n",
    "For each step, use a function to return a distribution.\n",
    "\n",
    "Roll a dice using the distribution as the tables distribution. Roll a dice using the player distribution. Sum it up, and put it in a vector."
   ]
  },
  {
   "cell_type": "code",
   "execution_count": 43,
   "metadata": {
    "collapsed": false
   },
   "outputs": [],
   "source": [
    "def dice_roll(distribution):\n",
    "    return np.random.choice([1,2,3,4,5,6], 1, True, distribution)"
   ]
  },
  {
   "cell_type": "code",
   "execution_count": 44,
   "metadata": {
    "collapsed": false
   },
   "outputs": [],
   "source": [
    "def visit_tables(emission_matrix, transition_matrix, table_dist_index, tableprime_dist_index, player_dice_dist):\n",
    "    current_table = 0 #0 for table, 1 for table_prime\n",
    "    player_rolls = np.zeros(K)\n",
    "    table_rolls = np.zeros(K)\n",
    "    dice_sums = np.zeros(K)\n",
    "    for i in range(K):\n",
    "        dice_dist = np.random.choice([table_dist_index,tableprime_dist_index], 1, True, transition_matrix[current_table,:])\n",
    "        table_rolls[i] = dice_roll(emission_matrix[dice_dist[0],:])\n",
    "        player_rolls[i] = dice_roll(emission_matrix[player_dice_dist,:]) \n",
    "        dice_sums[i] = table_rolls[i] + player_rolls[i]\n",
    "    return dice_sums"
   ]
  },
  {
   "cell_type": "markdown",
   "metadata": {},
   "source": [
    "# What if all of the dice are uniform?"
   ]
  },
  {
   "cell_type": "code",
   "execution_count": 45,
   "metadata": {
    "collapsed": false
   },
   "outputs": [],
   "source": [
    "overall_observations = np.zeros((num_players, K))\n",
    "for player in range(num_players):\n",
    "    overall_observations[player] = visit_tables(emission_matrix, transition_matrix, 0,0,0)\n",
    "    "
   ]
  },
  {
   "cell_type": "code",
   "execution_count": 46,
   "metadata": {
    "collapsed": false
   },
   "outputs": [
    {
     "data": {
      "text/plain": [
       "<matplotlib.axes._subplots.AxesSubplot at 0x7f8c8adca860>"
      ]
     },
     "execution_count": 46,
     "metadata": {},
     "output_type": "execute_result"
    },
    {
     "data": {
      "image/png": "[encoded data removed]",
      "text/plain": [
       "<matplotlib.figure.Figure at 0x7f8c8adc1cf8>"
      ]
     },
     "metadata": {},
     "output_type": "display_data"
    }
   ],
   "source": [
    "sns.distplot(np.concatenate(overall_observations),bins=11, kde=False, rug=True)"
   ]
  },
  {
   "cell_type": "markdown",
   "metadata": {},
   "source": [
    "# What if all the dice are uniform except one?"
   ]
  },
  {
   "cell_type": "code",
   "execution_count": 47,
   "metadata": {
    "collapsed": true
   },
   "outputs": [],
   "source": [
    "overall_observations = np.zeros((num_players, K))\n",
    "for player in range(num_players):\n",
    "    overall_observations[player] = visit_tables(emission_matrix, transition_matrix, 0,1,0)"
   ]
  },
  {
   "cell_type": "code",
   "execution_count": 48,
   "metadata": {
    "collapsed": false
   },
   "outputs": [
    {
     "data": {
      "text/plain": [
       "<matplotlib.axes._subplots.AxesSubplot at 0x7f8c837972e8>"
      ]
     },
     "execution_count": 48,
     "metadata": {},
     "output_type": "execute_result"
    },
    {
     "data": {
      "image/png": "[encoded data removed]",
      "text/plain": [
       "<matplotlib.figure.Figure at 0x7f8c9ae1b518>"
      ]
     },
     "metadata": {},
     "output_type": "display_data"
    }
   ],
   "source": [
    "sns.distplot(np.concatenate(overall_observations),bins=11, kde=False, rug=True)"
   ]
  },
  {
   "cell_type": "markdown",
   "metadata": {},
   "source": [
    "# What if all are bad/biased?\n",
    "We'll give the table a good bias, and the player a bad bias\n",
    "\n"
   ]
  },
  {
   "cell_type": "code",
   "execution_count": 49,
   "metadata": {
    "collapsed": true
   },
   "outputs": [],
   "source": [
    "overall_observations = np.zeros((num_players, K))\n",
    "for player in range(num_players):\n",
    "    overall_observations[player] = visit_tables(emission_matrix, transition_matrix, 0,1,2) #player gets the bad bias"
   ]
  },
  {
   "cell_type": "code",
   "execution_count": 50,
   "metadata": {
    "collapsed": false
   },
   "outputs": [
    {
     "data": {
      "text/plain": [
       "<matplotlib.axes._subplots.AxesSubplot at 0x7f8c8ad25ef0>"
      ]
     },
     "execution_count": 50,
     "metadata": {},
     "output_type": "execute_result"
    },
    {
     "data": {
      "image/png": "[encoded data removed]",
      "text/plain": [
       "<matplotlib.figure.Figure at 0x7f8c82c8c5c0>"
      ]
     },
     "metadata": {},
     "output_type": "display_data"
    }
   ],
   "source": [
    "sns.distplot(np.concatenate(overall_observations),bins=11, kde=False, rug=True)"
   ]
  },
  {
   "cell_type": "markdown",
   "metadata": {
    "collapsed": true
   },
   "source": [
    "# Forward Algorithm"
   ]
  },
  {
   "cell_type": "code",
   "execution_count": 78,
   "metadata": {
    "collapsed": true
   },
   "outputs": [],
   "source": [
    "def fwd(observations, hidden_states, init_state, transition_matrix, emission_matrix):\n",
    "    L = len(observations)\n",
    "    fwd = []\n",
    "    f_prev = []\n",
    "    for i, x_i in enumerate(observations):\n",
    "        f_curr = np.zeros(len(hidden_states))\n",
    "        for state, _ in enumerate(hidden_states):\n",
    "            if i == 0:\n",
    "                prev_f_sum = init_state[state]\n",
    "                print(\"Prev_f_sum: \" + str(prev_f_sum))\n",
    "            else:\n",
    "                print(\"fix me\")\n",
    "            f_curr[state] = emission_matrix[state][x_i] * prev_f_sum\n",
    "                "
   ]
  },
  {
   "cell_type": "code",
   "execution_count": 79,
   "metadata": {
    "collapsed": false
   },
   "outputs": [
    {
     "name": "stdout",
     "output_type": "stream",
     "text": [
      "Prev_f_sum: 1.0\n"
     ]
    },
    {
     "name": "stderr",
     "output_type": "stream",
     "text": [
      "/home/jonas/opt/anaconda3/lib/python3.5/site-packages/ipykernel/__main__.py:13: DeprecationWarning: using a non-integer number instead of an integer will result in an error in the future\n"
     ]
    },
    {
     "ename": "IndexError",
     "evalue": "index 8 is out of bounds for axis 0 with size 6",
     "output_type": "error",
     "traceback": [
      "\u001b[1;31m---------------------------------------------------------------------------\u001b[0m",
      "\u001b[1;31mIndexError\u001b[0m                                Traceback (most recent call last)",
      "\u001b[1;32m<ipython-input-79-73fb5bf1043f>\u001b[0m in \u001b[0;36m<module>\u001b[1;34m()\u001b[0m\n\u001b[0;32m      1\u001b[0m \u001b[1;31m#test out the forward algorithm\u001b[0m\u001b[1;33m\u001b[0m\u001b[1;33m\u001b[0m\u001b[0m\n\u001b[1;32m----> 2\u001b[1;33m \u001b[0mfwd\u001b[0m\u001b[1;33m(\u001b[0m\u001b[0moverall_observations\u001b[0m\u001b[1;33m[\u001b[0m\u001b[1;36m0\u001b[0m\u001b[1;33m,\u001b[0m\u001b[1;33m:\u001b[0m\u001b[1;33m]\u001b[0m\u001b[1;33m,\u001b[0m \u001b[0mstates\u001b[0m\u001b[1;33m,\u001b[0m \u001b[0mstart_probability\u001b[0m\u001b[1;33m,\u001b[0m \u001b[0mtransition_matrix\u001b[0m\u001b[1;33m,\u001b[0m \u001b[0memission_matrix\u001b[0m\u001b[1;33m)\u001b[0m\u001b[1;33m\u001b[0m\u001b[0m\n\u001b[0m",
      "\u001b[1;32m<ipython-input-78-8f2b19a60cc2>\u001b[0m in \u001b[0;36mfwd\u001b[1;34m(observations, hidden_states, init_state, transition_matrix, emission_matrix)\u001b[0m\n\u001b[0;32m     11\u001b[0m             \u001b[1;32melse\u001b[0m\u001b[1;33m:\u001b[0m\u001b[1;33m\u001b[0m\u001b[0m\n\u001b[0;32m     12\u001b[0m                 \u001b[0mprint\u001b[0m\u001b[1;33m(\u001b[0m\u001b[1;34m\"fix me\"\u001b[0m\u001b[1;33m)\u001b[0m\u001b[1;33m\u001b[0m\u001b[0m\n\u001b[1;32m---> 13\u001b[1;33m             \u001b[0mf_curr\u001b[0m\u001b[1;33m[\u001b[0m\u001b[0mstate\u001b[0m\u001b[1;33m]\u001b[0m \u001b[1;33m=\u001b[0m \u001b[0memission_matrix\u001b[0m\u001b[1;33m[\u001b[0m\u001b[0mstate\u001b[0m\u001b[1;33m]\u001b[0m\u001b[1;33m[\u001b[0m\u001b[0mx_i\u001b[0m\u001b[1;33m]\u001b[0m \u001b[1;33m*\u001b[0m \u001b[0mprev_f_sum\u001b[0m\u001b[1;33m\u001b[0m\u001b[0m\n\u001b[0m\u001b[0;32m     14\u001b[0m \u001b[1;33m\u001b[0m\u001b[0m\n",
      "\u001b[1;31mIndexError\u001b[0m: index 8 is out of bounds for axis 0 with size 6"
     ]
    }
   ],
   "source": [
    "#test out the forward algorithm\n",
    "fwd(overall_observations[0,:], states, start_probability, transition_matrix, emission_matrix)"
   ]
  },
  {
   "cell_type": "code",
   "execution_count": null,
   "metadata": {
    "collapsed": true
   },
   "outputs": [],
   "source": []
  }
 ],
 "metadata": {
  "kernelspec": {
   "display_name": "Python 3",
   "language": "python",
   "name": "python3"
  },
  "language_info": {
   "codemirror_mode": {
    "name": "ipython",
    "version": 3
   },
   "file_extension": ".py",
   "mimetype": "text/x-python",
   "name": "python",
   "nbconvert_exporter": "python",
   "pygments_lexer": "ipython3",
   "version": "3.5.0"
  }
 },
 "nbformat": 4,
 "nbformat_minor": 0
}
