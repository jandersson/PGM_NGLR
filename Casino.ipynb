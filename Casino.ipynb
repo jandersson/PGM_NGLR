{
 "cells": [
  {
   "cell_type": "code",
   "execution_count": 48,
   "metadata": {
    "collapsed": false
   },
   "outputs": [],
   "source": [
    "import numpy as np\n",
    "import numpy.testing as npt\n",
    "import seaborn as sns\n",
    "%matplotlib inline"
   ]
  },
  {
   "cell_type": "markdown",
   "metadata": {},
   "source": [
    "There are 2K tables!\n",
    "Dice rolls are distributed as a multinomial (aka categorical) distribution.\n",
    "Each player visits K tables. So the number of timesteps in the model is equal to the number of tables. Use a list of vectors to hold the dice rolls. A set of observations for a single player is a vector containing the sums of their dice rolls at each table. The overall observation set will be a vector of vectors containing the set of observations for each player per vector."
   ]
  },
  {
   "cell_type": "code",
   "execution_count": 49,
   "metadata": {
    "collapsed": false
   },
   "outputs": [],
   "source": [
    "#global state\n",
    "\n",
    "num_players = 10\n",
    "K = 10000\n",
    "num_tables = 2*K\n",
    "die_sides = 6\n",
    "timesteps = K"
   ]
  },
  {
   "cell_type": "code",
   "execution_count": 50,
   "metadata": {
    "collapsed": false
   },
   "outputs": [],
   "source": [
    "# class Player:\n",
    "#     def __init__(self):\n",
    "        "
   ]
  },
  {
   "cell_type": "markdown",
   "metadata": {},
   "source": [
    "# Generate Distributions"
   ]
  },
  {
   "cell_type": "code",
   "execution_count": 51,
   "metadata": {
    "collapsed": false
   },
   "outputs": [],
   "source": [
    "pval_uniform = np.array([1/float(die_sides)] * die_sides)\n",
    "pval_table_goodbias = [0.02, 0.02, 0.2, 0.2, 0.2, 0.36]\n",
    "pval_table_badbias = [0.3, 0.3, 0.1, 0.1, 0.1, 0.1]\n",
    "pval_player_bias = pval_uniform\n",
    "npt.assert_almost_equal(np.sum(pval_uniform), 1)\n",
    "npt.assert_almost_equal(np.sum(pval_table_badbias), 1)\n",
    "npt.assert_almost_equal(np.sum(pval_table_goodbias), 1)\n"
   ]
  },
  {
   "cell_type": "markdown",
   "metadata": {},
   "source": [
    "# Roll some dice!\n",
    "\n",
    "Loop through 1 to K\n",
    "\n",
    "For each step, use a function to return a distribution.\n",
    "\n",
    "Roll a dice using the distribution as the tables distribution. Roll a dice using the player distribution. Sum it up, and put it in a vector."
   ]
  },
  {
   "cell_type": "code",
   "execution_count": 52,
   "metadata": {
    "collapsed": false
   },
   "outputs": [],
   "source": [
    "def dice_roll(distribution):\n",
    "    return np.random.choice([1,2,3,4,5,6], 1, True, distribution)\n",
    "\n",
    "def get_distro(current_dist):\n",
    "    if current_dist == 0:\n",
    "        table_transition = [0.25, 0.75]\n",
    "    else:\n",
    "        table_transition = [0.75, 0.25]    \n",
    "    return np.random.choice([0,1], 1, True, table_transition)\n",
    "    "
   ]
  },
  {
   "cell_type": "code",
   "execution_count": 53,
   "metadata": {
    "collapsed": false
   },
   "outputs": [],
   "source": [
    "def visit_tables(table_dists):\n",
    "    dist_index = 0\n",
    "    current_distro = table_dists[0]\n",
    "    player_rolls = np.zeros(K)\n",
    "    table_rolls = np.zeros(K)\n",
    "    dice_sums = np.zeros(K)\n",
    "    for i in range(K):\n",
    "        dist_index = get_distro(dist_index)\n",
    "        table_rolls[i] = dice_roll(table_dists[dist_index[0]])\n",
    "        player_rolls[i] = dice_roll(pval_player_bias)\n",
    "        dice_sums[i] = table_rolls[i] + player_rolls[i]\n",
    "    return dice_sums"
   ]
  },
  {
   "cell_type": "markdown",
   "metadata": {},
   "source": [
    "# What if all of the dice are uniform?"
   ]
  },
  {
   "cell_type": "code",
   "execution_count": 54,
   "metadata": {
    "collapsed": false
   },
   "outputs": [],
   "source": [
    "overall_observations = np.zeros((num_players, K))\n",
    "table_dists = [pval_uniform, pval_uniform]\n",
    "for player in range(num_players):\n",
    "    overall_observations[player] = visit_tables(table_dists)\n",
    "    "
   ]
  },
  {
   "cell_type": "code",
   "execution_count": 55,
   "metadata": {
    "collapsed": false
   },
   "outputs": [
    {
     "data": {
      "text/plain": [
       "<matplotlib.axes._subplots.AxesSubplot at 0x7f4a9b7159e8>"
      ]
     },
     "execution_count": 55,
     "metadata": {},
     "output_type": "execute_result"
    },
    {
     "data": {
      "image/png": "[encoded data removed]",
      "text/plain": [
       "<matplotlib.figure.Figure at 0x7f4a93d68550>"
      ]
     },
     "metadata": {},
     "output_type": "display_data"
    }
   ],
   "source": [
    "sns.distplot(np.concatenate(overall_observations),bins=11, kde=False, rug=True)"
   ]
  },
  {
   "cell_type": "markdown",
   "metadata": {},
   "source": [
    "# What if all the dice are uniform except one?"
   ]
  },
  {
   "cell_type": "code",
   "execution_count": 56,
   "metadata": {
    "collapsed": true
   },
   "outputs": [],
   "source": [
    "overall_observations = np.zeros((num_players, K))\n",
    "table_dists = [pval_uniform, pval_table_goodbias]\n",
    "for player in range(num_players):\n",
    "    overall_observations[player] = visit_tables(table_dists)"
   ]
  },
  {
   "cell_type": "code",
   "execution_count": 57,
   "metadata": {
    "collapsed": false
   },
   "outputs": [
    {
     "data": {
      "text/plain": [
       "<matplotlib.axes._subplots.AxesSubplot at 0x7f4a41d0eb38>"
      ]
     },
     "execution_count": 57,
     "metadata": {},
     "output_type": "execute_result"
    },
    {
     "data": {
      "image/png": "[encoded data removed]",
      "text/plain": [
       "<matplotlib.figure.Figure at 0x7f4a41d0e198>"
      ]
     },
     "metadata": {},
     "output_type": "display_data"
    }
   ],
   "source": [
    "sns.distplot(np.concatenate(overall_observations),bins=11, kde=False, rug=True)"
   ]
  },
  {
   "cell_type": "markdown",
   "metadata": {},
   "source": [
    "# What if all are bad/biased?\n",
    "We'll give the table a good bias, and the player a bad bias\n",
    "\n"
   ]
  },
  {
   "cell_type": "code",
   "execution_count": 58,
   "metadata": {
    "collapsed": true
   },
   "outputs": [],
   "source": [
    "overall_observations = np.zeros((num_players, K))\n",
    "table_dists = [pval_table_goodbias, pval_table_goodbias]\n",
    "for player in range(num_players):\n",
    "    overall_observations[player] = visit_tables(table_dists)"
   ]
  },
  {
   "cell_type": "code",
   "execution_count": 59,
   "metadata": {
    "collapsed": false
   },
   "outputs": [
    {
     "data": {
      "text/plain": [
       "<matplotlib.axes._subplots.AxesSubplot at 0x7f49f019d748>"
      ]
     },
     "execution_count": 59,
     "metadata": {},
     "output_type": "execute_result"
    },
    {
     "data": {
      "image/png": "[encoded data removed]",
      "text/plain": [
       "<matplotlib.figure.Figure at 0x7f4a41cf1860>"
      ]
     },
     "metadata": {},
     "output_type": "display_data"
    }
   ],
   "source": [
    "sns.distplot(np.concatenate(overall_observations),bins=11, kde=False, rug=True)"
   ]
  },
  {
   "cell_type": "code",
   "execution_count": null,
   "metadata": {
    "collapsed": true
   },
   "outputs": [],
   "source": []
  }
 ],
 "metadata": {
  "kernelspec": {
   "display_name": "Python 3",
   "language": "python",
   "name": "python3"
  },
  "language_info": {
   "codemirror_mode": {
    "name": "ipython",
    "version": 3
   },
   "file_extension": ".py",
   "mimetype": "text/x-python",
   "name": "python",
   "nbconvert_exporter": "python",
   "pygments_lexer": "ipython3",
   "version": "3.5.0"
  }
 },
 "nbformat": 4,
 "nbformat_minor": 0
}
