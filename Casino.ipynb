{
 "cells": [
  {
   "cell_type": "code",
   "execution_count": 2,
   "metadata": {
    "collapsed": false
   },
   "outputs": [
    {
     "name": "stderr",
     "output_type": "stream",
     "text": [
      "/home/jonas/opt/anaconda3/lib/python3.5/site-packages/matplotlib/__init__.py:872: UserWarning: axes.color_cycle is deprecated and replaced with axes.prop_cycle; please use the latter.\n",
      "  warnings.warn(self.msg_depr % (key, alt_key))\n"
     ]
    }
   ],
   "source": [
    "import numpy as np\n",
    "import numpy.testing as npt\n",
    "import seaborn as sns\n",
    "%matplotlib inline"
   ]
  },
  {
   "cell_type": "markdown",
   "metadata": {},
   "source": [
    "There are 2K tables!\n",
    "Dice rolls are distributed as a multinomial (aka categorical) distribution.\n",
    "Each player visits K tables. So the number of timesteps in the model is equal to the number of tables. Use a list of vectors to hold the dice rolls. A set of observations for a single player is a vector containing the sums of their dice rolls at each table. The overall observation set will be a vector of vectors containing the set of observations for each player per vector."
   ]
  },
  {
   "cell_type": "code",
   "execution_count": 13,
   "metadata": {
    "collapsed": false
   },
   "outputs": [],
   "source": [
    "#global state\n",
    "\n",
    "num_players = 10\n",
    "K = 1000\n",
    "num_tables = 2*K\n",
    "die_sides = 6\n",
    "timesteps = K"
   ]
  },
  {
   "cell_type": "code",
   "execution_count": 14,
   "metadata": {
    "collapsed": false
   },
   "outputs": [],
   "source": [
    "# class Player:\n",
    "#     def __init__(self):\n",
    "        "
   ]
  },
  {
   "cell_type": "markdown",
   "metadata": {},
   "source": [
    "# Generate Distributions\n",
    "\n",
    "Setting up the emission matrix, seen in https://en.wikipedia.org/wiki/Forward%E2%80%93backward_algorithm"
   ]
  },
  {
   "cell_type": "code",
   "execution_count": 18,
   "metadata": {
    "collapsed": false
   },
   "outputs": [
    {
     "name": "stdout",
     "output_type": "stream",
     "text": [
      "[[ 0.16666667  0.16666667  0.16666667  0.16666667  0.16666667  0.16666667]\n",
      " [ 0.02        0.02        0.2         0.2         0.2         0.36      ]\n",
      " [ 0.3         0.3         0.1         0.1         0.1         0.1       ]]\n",
      "(3, 6)\n"
     ]
    }
   ],
   "source": [
    "pval_uniform = np.array([1/float(die_sides)] * die_sides)\n",
    "pval_goodbias = np.array([0.02, 0.02, 0.2, 0.2, 0.2, 0.36])\n",
    "pval_badbias = np.array([0.3, 0.3, 0.1, 0.1, 0.1, 0.1])\n",
    "\n",
    "emission_matrix = np.vstack([pval_uniform, pval_goodbias, pval_badbias])\n",
    "print(emission_matrix)\n",
    "print(emission_matrix.shape)\n",
    "pval_player_bias = pval_uniform\n",
    "npt.assert_almost_equal(np.sum(pval_uniform), 1)\n",
    "npt.assert_almost_equal(np.sum(pval_badbias), 1)\n",
    "npt.assert_almost_equal(np.sum(pval_goodbias), 1)\n",
    "\n",
    "\n",
    "transition_matrix = np.array([[0.25, 0.75],\n",
    "                              [0.75, 0.25]])"
   ]
  },
  {
   "cell_type": "markdown",
   "metadata": {},
   "source": [
    "# Roll some dice!\n",
    "\n",
    "Loop through 1 to K\n",
    "\n",
    "For each step, use a function to return a distribution.\n",
    "\n",
    "Roll a dice using the distribution as the tables distribution. Roll a dice using the player distribution. Sum it up, and put it in a vector."
   ]
  },
  {
   "cell_type": "code",
   "execution_count": 20,
   "metadata": {
    "collapsed": false
   },
   "outputs": [],
   "source": [
    "def dice_roll(distribution):\n",
    "    return np.random.choice([1,2,3,4,5,6], 1, True, distribution)\n",
    "\n",
    "def get_distro(current_dist):\n",
    "    if current_dist == 0:\n",
    "        table_transition = [0.25, 0.75]\n",
    "    else:\n",
    "        table_transition = [0.75, 0.25]    \n",
    "    return np.random.choice([1,2], 1, True, table_transition)\n",
    "    "
   ]
  },
  {
   "cell_type": "code",
   "execution_count": 23,
   "metadata": {
    "collapsed": false
   },
   "outputs": [],
   "source": [
    "def visit_tables(emission_matrix, transition_matrix, table_dist_index, tableprime_dist_index, player_dice_dist):\n",
    "    current_table = 0 #0 for table, 1 for table_prime\n",
    "#     current_distro = table_dists[0]\n",
    "    player_rolls = np.zeros(K)\n",
    "    table_rolls = np.zeros(K)\n",
    "    dice_sums = np.zeros(K)\n",
    "    for i in range(K):\n",
    "        dice_dist = np.random.choice([table_dist_index,tableprime_dist_index], 1, True, transition_matrix[current_table,:])\n",
    "#         dist_index = get_distro(dist_index)\n",
    "        table_rolls[i] = dice_roll(emission_matrix[dice_dist[0],:])\n",
    "        player_rolls[i] = dice_roll(emission_matrix[player_dice_dist,:]) \n",
    "        dice_sums[i] = table_rolls[i] + player_rolls[i]\n",
    "    return dice_sums"
   ]
  },
  {
   "cell_type": "markdown",
   "metadata": {},
   "source": [
    "# What if all of the dice are uniform?"
   ]
  },
  {
   "cell_type": "code",
   "execution_count": 24,
   "metadata": {
    "collapsed": false
   },
   "outputs": [],
   "source": [
    "overall_observations = np.zeros((num_players, K))\n",
    "for player in range(num_players):\n",
    "    overall_observations[player] = visit_tables(emission_matrix, transition_matrix, 0,0,0)\n",
    "    "
   ]
  },
  {
   "cell_type": "code",
   "execution_count": 25,
   "metadata": {
    "collapsed": false
   },
   "outputs": [
    {
     "data": {
      "text/plain": [
       "<matplotlib.axes._subplots.AxesSubplot at 0x7f8cb70cfa90>"
      ]
     },
     "execution_count": 25,
     "metadata": {},
     "output_type": "execute_result"
    },
    {
     "data": {
      "image/png": "[encoded data removed]",
      "text/plain": [
       "<matplotlib.figure.Figure at 0x7f8cb714b7b8>"
      ]
     },
     "metadata": {},
     "output_type": "display_data"
    }
   ],
   "source": [
    "sns.distplot(np.concatenate(overall_observations),bins=11, kde=False, rug=True)"
   ]
  },
  {
   "cell_type": "markdown",
   "metadata": {},
   "source": [
    "# What if all the dice are uniform except one?"
   ]
  },
  {
   "cell_type": "code",
   "execution_count": 26,
   "metadata": {
    "collapsed": true
   },
   "outputs": [],
   "source": [
    "overall_observations = np.zeros((num_players, K))\n",
    "for player in range(num_players):\n",
    "    overall_observations[player] = visit_tables(emission_matrix, transition_matrix, 0,1,0)"
   ]
  },
  {
   "cell_type": "code",
   "execution_count": 27,
   "metadata": {
    "collapsed": false
   },
   "outputs": [
    {
     "data": {
      "text/plain": [
       "<matplotlib.axes._subplots.AxesSubplot at 0x7f8caaf1f748>"
      ]
     },
     "execution_count": 27,
     "metadata": {},
     "output_type": "execute_result"
    },
    {
     "data": {
      "image/png": "[encoded data removed]",
      "text/plain": [
       "<matplotlib.figure.Figure at 0x7f8cb7051e80>"
      ]
     },
     "metadata": {},
     "output_type": "display_data"
    }
   ],
   "source": [
    "sns.distplot(np.concatenate(overall_observations),bins=11, kde=False, rug=True)"
   ]
  },
  {
   "cell_type": "markdown",
   "metadata": {},
   "source": [
    "# What if all are bad/biased?\n",
    "We'll give the table a good bias, and the player a bad bias\n",
    "\n"
   ]
  },
  {
   "cell_type": "code",
   "execution_count": 30,
   "metadata": {
    "collapsed": true
   },
   "outputs": [],
   "source": [
    "overall_observations = np.zeros((num_players, K))\n",
    "for player in range(num_players):\n",
    "    overall_observations[player] = visit_tables(emission_matrix, transition_matrix, 0,1,2) #player gets the bad bias"
   ]
  },
  {
   "cell_type": "code",
   "execution_count": 31,
   "metadata": {
    "collapsed": false
   },
   "outputs": [
    {
     "data": {
      "text/plain": [
       "<matplotlib.axes._subplots.AxesSubplot at 0x7f8c9b8d66a0>"
      ]
     },
     "execution_count": 31,
     "metadata": {},
     "output_type": "execute_result"
    },
    {
     "data": {
      "image/png": "[encoded data removed]",
      "text/plain": [
       "<matplotlib.figure.Figure at 0x7f8c9b8cce80>"
      ]
     },
     "metadata": {},
     "output_type": "display_data"
    }
   ],
   "source": [
    "sns.distplot(np.concatenate(overall_observations),bins=11, kde=False, rug=True)"
   ]
  },
  {
   "cell_type": "code",
   "execution_count": null,
   "metadata": {
    "collapsed": true
   },
   "outputs": [],
   "source": []
  }
 ],
 "metadata": {
  "kernelspec": {
   "display_name": "Python 3",
   "language": "python",
   "name": "python3"
  },
  "language_info": {
   "codemirror_mode": {
    "name": "ipython",
    "version": 3
   },
   "file_extension": ".py",
   "mimetype": "text/x-python",
   "name": "python",
   "nbconvert_exporter": "python",
   "pygments_lexer": "ipython3",
   "version": "3.5.0"
  }
 },
 "nbformat": 4,
 "nbformat_minor": 0
}
